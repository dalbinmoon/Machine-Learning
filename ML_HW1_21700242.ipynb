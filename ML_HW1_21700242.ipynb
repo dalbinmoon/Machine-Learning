{
 "cells": [
  {
   "cell_type": "markdown",
   "metadata": {},
   "source": [
    "# Homework Assignment 1"
   ]
  },
  {
   "cell_type": "code",
   "execution_count": 1,
   "metadata": {},
   "outputs": [
    {
     "name": "stdout",
     "output_type": "stream",
     "text": [
      "Requirement already satisfied: numpy in c:\\python\\lib\\site-packages (1.18.5)\n",
      "Requirement already satisfied: matplotlib in c:\\python\\lib\\site-packages (3.2.2)\n",
      "Requirement already satisfied: python-dateutil>=2.1 in c:\\python\\lib\\site-packages (from matplotlib) (2.8.1)\n",
      "Requirement already satisfied: kiwisolver>=1.0.1 in c:\\python\\lib\\site-packages (from matplotlib) (1.2.0)\n",
      "Requirement already satisfied: pyparsing!=2.0.4,!=2.1.2,!=2.1.6,>=2.0.1 in c:\\python\\lib\\site-packages (from matplotlib) (2.4.7)\n",
      "Requirement already satisfied: numpy>=1.11 in c:\\python\\lib\\site-packages (from matplotlib) (1.18.5)\n",
      "Requirement already satisfied: cycler>=0.10 in c:\\python\\lib\\site-packages (from matplotlib) (0.10.0)\n",
      "Requirement already satisfied: six>=1.5 in c:\\python\\lib\\site-packages (from python-dateutil>=2.1->matplotlib) (1.15.0)\n",
      "Requirement already satisfied: scipy in c:\\python\\lib\\site-packages (1.5.0)\n",
      "Requirement already satisfied: numpy>=1.14.5 in c:\\python\\lib\\site-packages (from scipy) (1.18.5)\n"
     ]
    }
   ],
   "source": [
    "# Run this cell to install all required modules\n",
    "!pip install numpy\n",
    "!pip install matplotlib\n",
    "!pip install scipy"
   ]
  },
  {
   "cell_type": "code",
   "execution_count": 3,
   "metadata": {},
   "outputs": [],
   "source": [
    "import numpy as np"
   ]
  },
  {
   "cell_type": "markdown",
   "metadata": {},
   "source": [
    "#### Problem 1. Evaluate the below algebraic expressions."
   ]
  },
  {
   "cell_type": "code",
   "execution_count": 4,
   "metadata": {},
   "outputs": [
    {
     "name": "stdout",
     "output_type": "stream",
     "text": [
      "[[2 2]\n",
      " [3 5]]\n"
     ]
    }
   ],
   "source": [
    "# Problem 0 - example\n",
    "A = np.array([[1, 2], [3, 4]])\n",
    "B = np.array([[1, 0], [0, 1]])\n",
    "sol = A + B\n",
    "print(sol)"
   ]
  },
  {
   "cell_type": "code",
   "execution_count": 5,
   "metadata": {},
   "outputs": [
    {
     "name": "stdout",
     "output_type": "stream",
     "text": [
      "[[6 3 6]\n",
      " [7 7 8]]\n"
     ]
    }
   ],
   "source": [
    "# Problem 1 (a)\n",
    "A = np.array([[1, 2, 3], [4, 5, 6]])\n",
    "B = np.array([[5, 1, 3], [3, 2, 2]])\n",
    "sol = A+B\n",
    "print(sol)"
   ]
  },
  {
   "cell_type": "code",
   "execution_count": 7,
   "metadata": {},
   "outputs": [
    {
     "name": "stdout",
     "output_type": "stream",
     "text": [
      "[[2. 1. 5.]\n",
      " [0. 2. 1.]]\n"
     ]
    }
   ],
   "source": [
    "# Problem 1 (b)\n",
    "A = np.array([[3, 1, 3], [1, 2, 2]])\n",
    "B = np.array([[8, 2, 2], [4, 4, 6]])\n",
    "sol = 2*A-0.5*B\n",
    "print(sol)"
   ]
  },
  {
   "cell_type": "code",
   "execution_count": 49,
   "metadata": {},
   "outputs": [
    {
     "name": "stdout",
     "output_type": "stream",
     "text": [
      "[[2. 3. 3.]\n",
      " [3. 3. 2.]]\n"
     ]
    }
   ],
   "source": [
    "# Problem 1 (c)\n",
    "A = np.array([[3, 1, 3], [1, 2, 3]])\n",
    "B = np.array([[1, 5, 3], [5, 4, 1]])\n",
    "sol = 0.5*(A+B)\n",
    "print(sol)"
   ]
  },
  {
   "cell_type": "code",
   "execution_count": 16,
   "metadata": {},
   "outputs": [
    {
     "name": "stdout",
     "output_type": "stream",
     "text": [
      "[[4 8]\n",
      " [3 5]]\n"
     ]
    }
   ],
   "source": [
    "# Problem 1 (d)\n",
    "A = np.array([[3, 1, 2], [1, 2, 3]])\n",
    "B = np.array([[1, 1, 0], [2, 0, 1]])\n",
    "sol = np.matmul(A, np.transpose(B))\n",
    "print(sol)"
   ]
  },
  {
   "cell_type": "code",
   "execution_count": 20,
   "metadata": {},
   "outputs": [
    {
     "name": "stdout",
     "output_type": "stream",
     "text": [
      "12\n"
     ]
    }
   ],
   "source": [
    "# Problem 1 (e)\n",
    "A = np.array([[1, 3, 2], [6, 4, 5], [9, 8, 7]])\n",
    "sol = np.trace(A)\n",
    "print(sol)"
   ]
  },
  {
   "cell_type": "code",
   "execution_count": 17,
   "metadata": {},
   "outputs": [
    {
     "name": "stdout",
     "output_type": "stream",
     "text": [
      "[[ 5.  2.]\n",
      " [-7. -3.]]\n"
     ]
    }
   ],
   "source": [
    "# Problem 1 (f)\n",
    "A = np.array([[3, 2], [-7, -5]])\n",
    "sol = np.linalg.inv(A)\n",
    "print(sol)"
   ]
  },
  {
   "cell_type": "code",
   "execution_count": 24,
   "metadata": {},
   "outputs": [
    {
     "name": "stdout",
     "output_type": "stream",
     "text": [
      "[[ 9.  3.  5.]\n",
      " [ 1.  1.  0.]\n",
      " [-1. -0. -1.]]\n"
     ]
    }
   ],
   "source": [
    "# Problem 1 (g)\n",
    "A = np.array([[1, -3, 5], [-1, 4, -5], [-1, 3, -6]])\n",
    "sol = np.linalg.inv(A)\n",
    "print(sol)"
   ]
  },
  {
   "cell_type": "code",
   "execution_count": 47,
   "metadata": {},
   "outputs": [
    {
     "name": "stdout",
     "output_type": "stream",
     "text": [
      "-17.0\n"
     ]
    }
   ],
   "source": [
    "# Problem 1 (h)\n",
    "A = np.array([[1,3], [4, -5]])\n",
    "sol = np.linalg.det(A)\n",
    "print(sol)"
   ]
  },
  {
   "cell_type": "markdown",
   "metadata": {},
   "source": [
    "#### Problem 2. Solve the following systems of linear equations."
   ]
  },
  {
   "cell_type": "code",
   "execution_count": 29,
   "metadata": {},
   "outputs": [
    {
     "name": "stdout",
     "output_type": "stream",
     "text": [
      "[{x: 2, y: 1}]\n"
     ]
    }
   ],
   "source": [
    "# Problem 2 (a)\n",
    "# 2x + y = 5\n",
    "# -x + 3y = 1\n",
    "from sympy import Symbol, solve\n",
    "x = Symbol('x')\n",
    "y = Symbol('y')\n",
    "equation1 = 2*x + y - 5\n",
    "equation2 = -x + 3*y - 1\n",
    "sol = solve((equation1, equation2), dict=True)\n",
    "print(sol)"
   ]
  },
  {
   "cell_type": "code",
   "execution_count": 30,
   "metadata": {},
   "outputs": [
    {
     "name": "stdout",
     "output_type": "stream",
     "text": [
      "[{x: -1/2, y: -1/2, z: 1/2}]\n"
     ]
    }
   ],
   "source": [
    "# Problem 2 (b)\n",
    "# 5x + y - 2z = -4\n",
    "# 2x + y + 5z = 1\n",
    "# x - y + 2z = 1\n",
    "from sympy import Symbol, solve\n",
    "x = Symbol('x')\n",
    "y = Symbol('y')\n",
    "z = Symbol('z')\n",
    "equation1 = 5*x + y - 2*z + 4\n",
    "equation2 = 2*x + y + 5*z - 1\n",
    "equation3 = x - y + 2*z - 1\n",
    "sol = solve((equation1, equation2, equation3), dict=True)\n",
    "print(sol)"
   ]
  },
  {
   "cell_type": "markdown",
   "metadata": {},
   "source": [
    "#### Problem 3. k-Means Clustering"
   ]
  },
  {
   "cell_type": "code",
   "execution_count": 39,
   "metadata": {},
   "outputs": [],
   "source": [
    "import random as rd"
   ]
  },
  {
   "cell_type": "code",
   "execution_count": 36,
   "metadata": {},
   "outputs": [
    {
     "name": "stdout",
     "output_type": "stream",
     "text": [
      "9.38083151964686\n"
     ]
    }
   ],
   "source": [
    "# Problem 3 (a)\n",
    "def euclidian_distance(a, b):\n",
    "    \"\"\" \n",
    "    Takes two vectors and returns the Euclidean distance between them \n",
    "    Input: a - input vector a\n",
    "           b - input vector b\n",
    "    Output: the Euclidean distance between vectors a and b\n",
    "    \"\"\"\n",
    "    distance = 0\n",
    "    for i in range(len(a)):\n",
    "        distance += (a[i]-b[i])**2\n",
    "    return distance ** 0.5 \n",
    "\n",
    "A = np.array([1, 2, 3])\n",
    "B = np.array([5, 8, 9])\n",
    "ans = euclidian_distance(A,B)\n",
    "print(ans)"
   ]
  },
  {
   "cell_type": "code",
   "execution_count": 41,
   "metadata": {},
   "outputs": [],
   "source": [
    "# Problem 3 (b)\n",
    "def kmeans(X, K, max_iter=100, tol=0.00005, distance_metric=euclidian_distance):\n",
    "    \"\"\"\n",
    "    K-Means clustering algorithm. \n",
    "    Input: X -         (comments are intentionally removed)\n",
    "           K - \n",
    "           max_iter - \n",
    "           tol - \n",
    "           distance_metric - \n",
    "    Output: c -        (comments are intentionally removed)\n",
    "            centroids - \n",
    "            log_centroids - \n",
    "            log_c - \n",
    "            log_sse - \n",
    "    \"\"\"\n",
    "    \n",
    "    N, d = X.shape\n",
    "    \n",
    "    centroids = np.zeros((K, d))\n",
    "    \n",
    "    sse = np.Inf    # sum of squared error (objective)\n",
    "    \n",
    "    # for bookkeeping\n",
    "    log_sse = []\n",
    "    log_c = []\n",
    "    log_centroids = []\n",
    "\n",
    "    # initialization\n",
    "    for k in range(K):\n",
    "        rand_index = rd.randint(0, N-1)\n",
    "        centroids[k] = X[rand_index]\n",
    "    log_centroids.append(log_centroids)\n",
    "    \n",
    "    # main process\n",
    "    for i in range(max_iter):\n",
    "        \n",
    "        # update the cluster membership\n",
    "        c = []\n",
    "        for n in range(N):\n",
    "            dist_to_centroids = []\n",
    "            \n",
    "            for k in range(K):\n",
    "                dist_to_centroids.append(distance_metric(X[n], centroids[k]))\n",
    "            \n",
    "            c.append(np.argmin(dist_to_centroids)) # cluster membership\n",
    "        log_c.append(c)\n",
    "        \n",
    "        # update the centroids\n",
    "        prev_centroids = centroids  # bookkeeping\n",
    "        centroids = np.zeros((K, d))\n",
    "        for k in range(K):\n",
    "            tmp_sum = np.zeros(d)\n",
    "            tmp_count = 0\n",
    "            for n in range(N):\n",
    "                if c[n] == k:\n",
    "                    tmp_sum += X[n]\n",
    "                    tmp_count += 1\n",
    "            centroids[k] = tmp_sum / tmp_count\n",
    "        log_centroids.append(centroids)\n",
    "        \n",
    "        # estimate the sum of the squared errors (sse)\n",
    "        prev_sse = sse  # bookkeeping\n",
    "        sse = 0\n",
    "        for n in range(N):\n",
    "            sse += distance_metric(X[n], centroids[c[n]]) ** 2\n",
    "        log_sse.append(sse)\n",
    "        \n",
    "        # stopping criterion\n",
    "        if prev_sse - sse < tol:\n",
    "            break\n",
    "    \n",
    "    return c, centroids, log_centroids, log_c, log_sse\n",
    "    "
   ]
  },
  {
   "cell_type": "code",
   "execution_count": 42,
   "metadata": {},
   "outputs": [
    {
     "data": {
      "text/plain": [
       "<matplotlib.collections.PathCollection at 0x1fef906afd0>"
      ]
     },
     "execution_count": 42,
     "metadata": {},
     "output_type": "execute_result"
    },
    {
     "data": {
      "image/png": "[encoded data removed]",
      "text/plain": [
       "<Figure size 432x288 with 1 Axes>"
      ]
     },
     "metadata": {
      "needs_background": "light"
     },
     "output_type": "display_data"
    }
   ],
   "source": [
    "# Problem 3 (c)\n",
    "import matplotlib\n",
    "import matplotlib.pyplot as plt\n",
    "%matplotlib inline  \n",
    "\n",
    "def generate_random_data(N=100):\n",
    "    \"\"\" \n",
    "    Generates a random dataset (multivariate normal) \n",
    "    Input: N - number of instances to create\n",
    "    Output: X - generated (synthetic) dataset\n",
    "    \"\"\"\n",
    "    \n",
    "    means = [[0, 0], [3, 3], [0, 3], [3, 0]]\n",
    "    covs = [[[0.5, 0], [0, 0.1]], [[0.5, 0], [0, 0.5]], \n",
    "            [[0.5, 0], [0, 1.0]], [[0.3, 0], [0, 0.3]]]\n",
    "\n",
    "    X = np.zeros((N, 2))\n",
    "    for n in range(N):\n",
    "        seed = rd.randint(0, 3)\n",
    "        X[n] = np.random.multivariate_normal(means[seed], covs[seed])\n",
    "    \n",
    "    return X\n",
    "\n",
    "X = generate_random_data()\n",
    "plt.scatter(X[:,0], X[:,1], c='k')\n"
   ]
  },
  {
   "cell_type": "code",
   "execution_count": 65,
   "metadata": {},
   "outputs": [
    {
     "data": {
      "text/plain": [
       "<matplotlib.collections.PathCollection at 0x1fefa2c40d0>"
      ]
     },
     "execution_count": 65,
     "metadata": {},
     "output_type": "execute_result"
    },
    {
     "data": {
      "image/png": "[encoded data removed]",
      "text/plain": [
       "<Figure size 432x288 with 1 Axes>"
      ]
     },
     "metadata": {
      "needs_background": "light"
     },
     "output_type": "display_data"
    }
   ],
   "source": [
    "# Problem 3 (c) - part 1\n",
    "# k = 4\n",
    "X = generate_random_data()\n",
    "[c, centroids, log_centroids, log_c, log_sse] = kmeans(X, 4, max_iter=100, tol=0.00005, distance_metric=euclidian_distance)\n",
    "plt.scatter(X[:,0], X[:,1], c='k')\n",
    "plt.scatter(centroids[:,0], centroids[:,1], c='red')"
   ]
  },
  {
   "cell_type": "code",
   "execution_count": 66,
   "metadata": {},
   "outputs": [
    {
     "data": {
      "text/plain": [
       "<matplotlib.collections.PathCollection at 0x1fefa1f5a00>"
      ]
     },
     "execution_count": 66,
     "metadata": {},
     "output_type": "execute_result"
    },
    {
     "data": {
      "image/png": "[encoded data removed]",
      "text/plain": [
       "<Figure size 432x288 with 1 Axes>"
      ]
     },
     "metadata": {
      "needs_background": "light"
     },
     "output_type": "display_data"
    }
   ],
   "source": [
    "# Problem 3 (c) - part 2\n",
    "# k = 2\n",
    "X = generate_random_data()\n",
    "[c, centroids, log_centroids, log_c, log_sse] = kmeans(X, 2, max_iter=100, tol=0.00005, distance_metric=euclidian_distance)\n",
    "plt.scatter(X[:,0], X[:,1], c='k')\n",
    "plt.scatter(centroids[:,0], centroids[:,1], c='red')"
   ]
  },
  {
   "cell_type": "code",
   "execution_count": 67,
   "metadata": {},
   "outputs": [
    {
     "name": "stdout",
     "output_type": "stream",
     "text": [
      "200\n",
      "4\n"
     ]
    },
    {
     "data": {
      "text/plain": [
       "DescribeResult(nobs=200, minmax=(array([ 0., 18., 15.,  1.]), array([  1.,  70., 137.,  99.])), mean=array([ 0.56, 38.85, 60.56, 50.2 ]), variance=array([2.47638191e-01, 1.95133166e+02, 6.89835578e+02, 6.66854271e+02]), skewness=array([-0.24174689,  0.48191947,  0.31942368, -0.04686531]), kurtosis=array([-1.94155844, -0.68475139, -0.12589283, -0.83595827]))"
      ]
     },
     "execution_count": 67,
     "metadata": {},
     "output_type": "execute_result"
    }
   ],
   "source": [
    "# Problem 3 (d)\n",
    "my_data = np.genfromtxt('Mall_Customers.csv', delimiter=',', skip_header=1)\n",
    "# print(my_data)\n",
    "N, d = my_data.shape\n",
    "print(N)\n",
    "print(d)\n",
    "\n",
    "from scipy import stats\n",
    "stats.describe(my_data)"
   ]
  },
  {
   "cell_type": "code",
   "execution_count": null,
   "metadata": {},
   "outputs": [],
   "source": [
    "# Problem 3 (d)\n",
    "def normalize(X):\n",
    "    \"\"\"\n",
    "    mean-std normalization (standardization)\n",
    "    Takes and applies a normalization on the input matrix X\n",
    "    Input: X - data matrix (numpy array)\n",
    "    Output: X_normalized - normalized data matrix\n",
    "    \"\"\"\n",
    "    \n",
    "   "
   ]
  },
  {
   "cell_type": "code",
   "execution_count": null,
   "metadata": {},
   "outputs": [],
   "source": [
    "# Problem 3 (e)\n",
    "\"\"\" TODO: Write your solution here \"\"\""
   ]
  },
  {
   "cell_type": "code",
   "execution_count": null,
   "metadata": {},
   "outputs": [],
   "source": [
    "# Problem 3 (f)\n",
    "\"\"\" TODO: Write your solution here \"\"\""
   ]
  },
  {
   "cell_type": "code",
   "execution_count": null,
   "metadata": {},
   "outputs": [],
   "source": [
    "# Problem 3 (g) - Extra point\n",
    "\"\"\" TODO: You may copy the kmeans() function from Problem 3(b) to here\n",
    "         and modify it from this cell \"\"\""
   ]
  }
 ],
 "metadata": {
  "kernelspec": {
   "display_name": "Python 3",
   "language": "python",
   "name": "python3"
  },
  "language_info": {
   "codemirror_mode": {
    "name": "ipython",
    "version": 3
   },
   "file_extension": ".py",
   "mimetype": "text/x-python",
   "name": "python",
   "nbconvert_exporter": "python",
   "pygments_lexer": "ipython3",
   "version": "3.8.3"
  }
 },
 "nbformat": 4,
 "nbformat_minor": 4
}
